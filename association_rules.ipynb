{
 "cells": [
  {
   "cell_type": "markdown",
   "id": "1d2b6cd1",
   "metadata": {},
   "source": [
    "## 1. Importing the libraries"
   ]
  },
  {
   "cell_type": "code",
   "execution_count": 28,
   "id": "773d1a7c",
   "metadata": {},
   "outputs": [
    {
     "name": "stdout",
     "output_type": "stream",
     "text": [
      "Defaulting to user installation because normal site-packages is not writeable\n",
      "Requirement already satisfied: mlxtend in c:\\users\\njeri\\appdata\\local\\packages\\pythonsoftwarefoundation.python.3.12_qbz5n2kfra8p0\\localcache\\local-packages\\python312\\site-packages (0.23.4)\n",
      "Requirement already satisfied: scipy>=1.2.1 in c:\\users\\njeri\\appdata\\local\\packages\\pythonsoftwarefoundation.python.3.12_qbz5n2kfra8p0\\localcache\\local-packages\\python312\\site-packages (from mlxtend) (1.16.0)\n",
      "Requirement already satisfied: numpy>=1.16.2 in c:\\users\\njeri\\appdata\\local\\packages\\pythonsoftwarefoundation.python.3.12_qbz5n2kfra8p0\\localcache\\local-packages\\python312\\site-packages (from mlxtend) (2.1.3)\n",
      "Requirement already satisfied: pandas>=0.24.2 in c:\\users\\njeri\\appdata\\local\\packages\\pythonsoftwarefoundation.python.3.12_qbz5n2kfra8p0\\localcache\\local-packages\\python312\\site-packages (from mlxtend) (2.2.3)\n",
      "Requirement already satisfied: scikit-learn>=1.3.1 in c:\\users\\njeri\\appdata\\local\\packages\\pythonsoftwarefoundation.python.3.12_qbz5n2kfra8p0\\localcache\\local-packages\\python312\\site-packages (from mlxtend) (1.7.0)\n",
      "Requirement already satisfied: matplotlib>=3.0.0 in c:\\users\\njeri\\appdata\\local\\packages\\pythonsoftwarefoundation.python.3.12_qbz5n2kfra8p0\\localcache\\local-packages\\python312\\site-packages (from mlxtend) (3.10.3)\n",
      "Requirement already satisfied: joblib>=0.13.2 in c:\\users\\njeri\\appdata\\local\\packages\\pythonsoftwarefoundation.python.3.12_qbz5n2kfra8p0\\localcache\\local-packages\\python312\\site-packages (from mlxtend) (1.5.1)\n",
      "Requirement already satisfied: contourpy>=1.0.1 in c:\\users\\njeri\\appdata\\local\\packages\\pythonsoftwarefoundation.python.3.12_qbz5n2kfra8p0\\localcache\\local-packages\\python312\\site-packages (from matplotlib>=3.0.0->mlxtend) (1.3.2)\n",
      "Requirement already satisfied: cycler>=0.10 in c:\\users\\njeri\\appdata\\local\\packages\\pythonsoftwarefoundation.python.3.12_qbz5n2kfra8p0\\localcache\\local-packages\\python312\\site-packages (from matplotlib>=3.0.0->mlxtend) (0.12.1)\n",
      "Requirement already satisfied: fonttools>=4.22.0 in c:\\users\\njeri\\appdata\\local\\packages\\pythonsoftwarefoundation.python.3.12_qbz5n2kfra8p0\\localcache\\local-packages\\python312\\site-packages (from matplotlib>=3.0.0->mlxtend) (4.58.4)\n",
      "Requirement already satisfied: kiwisolver>=1.3.1 in c:\\users\\njeri\\appdata\\local\\packages\\pythonsoftwarefoundation.python.3.12_qbz5n2kfra8p0\\localcache\\local-packages\\python312\\site-packages (from matplotlib>=3.0.0->mlxtend) (1.4.8)\n",
      "Requirement already satisfied: packaging>=20.0 in c:\\users\\njeri\\appdata\\local\\packages\\pythonsoftwarefoundation.python.3.12_qbz5n2kfra8p0\\localcache\\local-packages\\python312\\site-packages (from matplotlib>=3.0.0->mlxtend) (24.2)\n",
      "Requirement already satisfied: pillow>=8 in c:\\users\\njeri\\appdata\\local\\packages\\pythonsoftwarefoundation.python.3.12_qbz5n2kfra8p0\\localcache\\local-packages\\python312\\site-packages (from matplotlib>=3.0.0->mlxtend) (11.2.1)\n",
      "Requirement already satisfied: pyparsing>=2.3.1 in c:\\users\\njeri\\appdata\\local\\packages\\pythonsoftwarefoundation.python.3.12_qbz5n2kfra8p0\\localcache\\local-packages\\python312\\site-packages (from matplotlib>=3.0.0->mlxtend) (3.2.3)\n",
      "Requirement already satisfied: python-dateutil>=2.7 in c:\\users\\njeri\\appdata\\local\\packages\\pythonsoftwarefoundation.python.3.12_qbz5n2kfra8p0\\localcache\\local-packages\\python312\\site-packages (from matplotlib>=3.0.0->mlxtend) (2.9.0.post0)\n",
      "Requirement already satisfied: pytz>=2020.1 in c:\\users\\njeri\\appdata\\local\\packages\\pythonsoftwarefoundation.python.3.12_qbz5n2kfra8p0\\localcache\\local-packages\\python312\\site-packages (from pandas>=0.24.2->mlxtend) (2024.2)\n",
      "Requirement already satisfied: tzdata>=2022.7 in c:\\users\\njeri\\appdata\\local\\packages\\pythonsoftwarefoundation.python.3.12_qbz5n2kfra8p0\\localcache\\local-packages\\python312\\site-packages (from pandas>=0.24.2->mlxtend) (2024.2)\n",
      "Requirement already satisfied: threadpoolctl>=3.1.0 in c:\\users\\njeri\\appdata\\local\\packages\\pythonsoftwarefoundation.python.3.12_qbz5n2kfra8p0\\localcache\\local-packages\\python312\\site-packages (from scikit-learn>=1.3.1->mlxtend) (3.6.0)\n",
      "Requirement already satisfied: six>=1.5 in c:\\users\\njeri\\appdata\\local\\packages\\pythonsoftwarefoundation.python.3.12_qbz5n2kfra8p0\\localcache\\local-packages\\python312\\site-packages (from python-dateutil>=2.7->matplotlib>=3.0.0->mlxtend) (1.17.0)\n"
     ]
    },
    {
     "name": "stderr",
     "output_type": "stream",
     "text": [
      "\n",
      "[notice] A new release of pip is available: 25.0.1 -> 25.1.1\n",
      "[notice] To update, run: C:\\Users\\njeri\\AppData\\Local\\Microsoft\\WindowsApps\\PythonSoftwareFoundation.Python.3.12_qbz5n2kfra8p0\\python.exe -m pip install --upgrade pip\n"
     ]
    }
   ],
   "source": [
    "!pip install mlxtend"
   ]
  },
  {
   "cell_type": "code",
   "execution_count": 29,
   "id": "d088d57d",
   "metadata": {},
   "outputs": [],
   "source": [
    "import pandas as pd\n",
    "import random #used to randomly generate transactions\n",
    "from mlxtend.frequent_patterns import apriori, association_rules #helps us find frequent patterns and generate the shopping rules\n"
   ]
  },
  {
   "cell_type": "markdown",
   "id": "bac0083d",
   "metadata": {},
   "source": [
    "## 2.Simulate Transaction Data\n",
    "We'll create 10 fake transactions from a random a pool of 8 items"
   ]
  },
  {
   "cell_type": "code",
   "execution_count": 30,
   "id": "88d7c9e2",
   "metadata": {},
   "outputs": [],
   "source": [
    "items_pool = ['Bread', 'Milk', 'Eggs', 'Cheese', 'Apples', 'Diapers', 'Beer', 'Coke']#this is the supermarket item list"
   ]
  },
  {
   "cell_type": "code",
   "execution_count": 31,
   "id": "db188d17",
   "metadata": {},
   "outputs": [],
   "source": [
    "transactions = []\n",
    "for _ in range(10):#repeat 10 times to create 10 transactions\n",
    "    transaction = random.sample(items_pool, random.randint(2, 5))# randomly select between 2 to 5 items from the items_pool\n",
    "    transactions.append(transaction)#adds each basket to the list\n"
   ]
  },
  {
   "cell_type": "code",
   "execution_count": 32,
   "id": "5d808636",
   "metadata": {},
   "outputs": [
    {
     "name": "stdout",
     "output_type": "stream",
     "text": [
      "Sample Transactions:\n",
      "Transaction 1: ['Bread', 'Eggs']\n",
      "Transaction 2: ['Diapers', 'Beer']\n",
      "Transaction 3: ['Milk', 'Beer', 'Eggs', 'Bread']\n",
      "Transaction 4: ['Eggs', 'Beer']\n",
      "Transaction 5: ['Milk', 'Eggs']\n",
      "Transaction 6: ['Diapers', 'Apples']\n",
      "Transaction 7: ['Eggs', 'Cheese', 'Diapers']\n",
      "Transaction 8: ['Bread', 'Diapers', 'Cheese', 'Apples']\n",
      "Transaction 9: ['Bread', 'Beer', 'Apples', 'Coke', 'Eggs']\n",
      "Transaction 10: ['Diapers', 'Beer', 'Coke', 'Cheese', 'Eggs']\n"
     ]
    }
   ],
   "source": [
    "#to print the transactions\n",
    "print(\"Sample Transactions:\")\n",
    "for i, t in enumerate(transactions, 1):\n",
    "    print(f\"Transaction {i}: {t}\")\n"
   ]
  },
  {
   "cell_type": "markdown",
   "id": "6764f61d",
   "metadata": {},
   "source": [
    "## 3. One-Hot Encode the Data"
   ]
  },
  {
   "cell_type": "code",
   "execution_count": 33,
   "id": "12f1d85d",
   "metadata": {},
   "outputs": [],
   "source": [
    "all_items = sorted(set(item for t in transactions for item in t))#created a sorted list of all unique items(alphabetically sorted)"
   ]
  },
  {
   "cell_type": "code",
   "execution_count": 34,
   "id": "566c1695",
   "metadata": {},
   "outputs": [],
   "source": [
    "encoded_data = []\n",
    "for t in transactions:\n",
    "    encoded_data.append({item: (item in t) for item in all_items})#converted each transaction into a dictionary with items as keys and boolean values indicating presence or absence"
   ]
  },
  {
   "cell_type": "code",
   "execution_count": 35,
   "id": "9934317d",
   "metadata": {},
   "outputs": [
    {
     "data": {
      "text/html": [
       "<div>\n",
       "<style scoped>\n",
       "    .dataframe tbody tr th:only-of-type {\n",
       "        vertical-align: middle;\n",
       "    }\n",
       "\n",
       "    .dataframe tbody tr th {\n",
       "        vertical-align: top;\n",
       "    }\n",
       "\n",
       "    .dataframe thead th {\n",
       "        text-align: right;\n",
       "    }\n",
       "</style>\n",
       "<table border=\"1\" class=\"dataframe\">\n",
       "  <thead>\n",
       "    <tr style=\"text-align: right;\">\n",
       "      <th></th>\n",
       "      <th>Apples</th>\n",
       "      <th>Beer</th>\n",
       "      <th>Bread</th>\n",
       "      <th>Cheese</th>\n",
       "      <th>Coke</th>\n",
       "      <th>Diapers</th>\n",
       "      <th>Eggs</th>\n",
       "      <th>Milk</th>\n",
       "    </tr>\n",
       "  </thead>\n",
       "  <tbody>\n",
       "    <tr>\n",
       "      <th>0</th>\n",
       "      <td>False</td>\n",
       "      <td>False</td>\n",
       "      <td>True</td>\n",
       "      <td>False</td>\n",
       "      <td>False</td>\n",
       "      <td>False</td>\n",
       "      <td>True</td>\n",
       "      <td>False</td>\n",
       "    </tr>\n",
       "    <tr>\n",
       "      <th>1</th>\n",
       "      <td>False</td>\n",
       "      <td>True</td>\n",
       "      <td>False</td>\n",
       "      <td>False</td>\n",
       "      <td>False</td>\n",
       "      <td>True</td>\n",
       "      <td>False</td>\n",
       "      <td>False</td>\n",
       "    </tr>\n",
       "    <tr>\n",
       "      <th>2</th>\n",
       "      <td>False</td>\n",
       "      <td>True</td>\n",
       "      <td>True</td>\n",
       "      <td>False</td>\n",
       "      <td>False</td>\n",
       "      <td>False</td>\n",
       "      <td>True</td>\n",
       "      <td>True</td>\n",
       "    </tr>\n",
       "    <tr>\n",
       "      <th>3</th>\n",
       "      <td>False</td>\n",
       "      <td>True</td>\n",
       "      <td>False</td>\n",
       "      <td>False</td>\n",
       "      <td>False</td>\n",
       "      <td>False</td>\n",
       "      <td>True</td>\n",
       "      <td>False</td>\n",
       "    </tr>\n",
       "    <tr>\n",
       "      <th>4</th>\n",
       "      <td>False</td>\n",
       "      <td>False</td>\n",
       "      <td>False</td>\n",
       "      <td>False</td>\n",
       "      <td>False</td>\n",
       "      <td>False</td>\n",
       "      <td>True</td>\n",
       "      <td>True</td>\n",
       "    </tr>\n",
       "    <tr>\n",
       "      <th>5</th>\n",
       "      <td>True</td>\n",
       "      <td>False</td>\n",
       "      <td>False</td>\n",
       "      <td>False</td>\n",
       "      <td>False</td>\n",
       "      <td>True</td>\n",
       "      <td>False</td>\n",
       "      <td>False</td>\n",
       "    </tr>\n",
       "    <tr>\n",
       "      <th>6</th>\n",
       "      <td>False</td>\n",
       "      <td>False</td>\n",
       "      <td>False</td>\n",
       "      <td>True</td>\n",
       "      <td>False</td>\n",
       "      <td>True</td>\n",
       "      <td>True</td>\n",
       "      <td>False</td>\n",
       "    </tr>\n",
       "    <tr>\n",
       "      <th>7</th>\n",
       "      <td>True</td>\n",
       "      <td>False</td>\n",
       "      <td>True</td>\n",
       "      <td>True</td>\n",
       "      <td>False</td>\n",
       "      <td>True</td>\n",
       "      <td>False</td>\n",
       "      <td>False</td>\n",
       "    </tr>\n",
       "    <tr>\n",
       "      <th>8</th>\n",
       "      <td>True</td>\n",
       "      <td>True</td>\n",
       "      <td>True</td>\n",
       "      <td>False</td>\n",
       "      <td>True</td>\n",
       "      <td>False</td>\n",
       "      <td>True</td>\n",
       "      <td>False</td>\n",
       "    </tr>\n",
       "    <tr>\n",
       "      <th>9</th>\n",
       "      <td>False</td>\n",
       "      <td>True</td>\n",
       "      <td>False</td>\n",
       "      <td>True</td>\n",
       "      <td>True</td>\n",
       "      <td>True</td>\n",
       "      <td>True</td>\n",
       "      <td>False</td>\n",
       "    </tr>\n",
       "  </tbody>\n",
       "</table>\n",
       "</div>"
      ],
      "text/plain": [
       "   Apples   Beer  Bread  Cheese   Coke  Diapers   Eggs   Milk\n",
       "0   False  False   True   False  False    False   True  False\n",
       "1   False   True  False   False  False     True  False  False\n",
       "2   False   True   True   False  False    False   True   True\n",
       "3   False   True  False   False  False    False   True  False\n",
       "4   False  False  False   False  False    False   True   True\n",
       "5    True  False  False   False  False     True  False  False\n",
       "6   False  False  False    True  False     True   True  False\n",
       "7    True  False   True    True  False     True  False  False\n",
       "8    True   True   True   False   True    False   True  False\n",
       "9   False   True  False    True   True     True   True  False"
      ]
     },
     "execution_count": 35,
     "metadata": {},
     "output_type": "execute_result"
    }
   ],
   "source": [
    "df = pd.DataFrame(encoded_data)#turned into a DataFrame\n",
    "df"
   ]
  },
  {
   "cell_type": "markdown",
   "id": "7faddaea",
   "metadata": {},
   "source": [
    "True if the item is in the transaction\n",
    "False otherwise\n",
    "\n",
    "And as you can see transaction 1 had bread and eggs:while in the table they're the only ones with true"
   ]
  },
  {
   "cell_type": "markdown",
   "id": "d216d834",
   "metadata": {},
   "source": [
    "## 4.Find Frequent Itemsets"
   ]
  },
  {
   "cell_type": "code",
   "execution_count": null,
   "id": "b673ac20",
   "metadata": {},
   "outputs": [
    {
     "name": "stdout",
     "output_type": "stream",
     "text": [
      "\n",
      "Frequent Itemsets:\n",
      "   support           itemsets\n",
      "0      0.3           (Apples)\n",
      "1      0.5             (Beer)\n",
      "2      0.4            (Bread)\n",
      "3      0.3           (Cheese)\n",
      "4      0.5          (Diapers)\n",
      "5      0.7             (Eggs)\n",
      "6      0.4       (Eggs, Beer)\n",
      "7      0.3      (Bread, Eggs)\n",
      "8      0.3  (Diapers, Cheese)\n"
     ]
    }
   ],
   "source": [
    "frequent_itemsets = apriori(df, min_support=0.3, use_colnames=True)#runs the apriori algorithm to find frequent itemsets with a minimum support of 0.3\n",
    "print(\"\\nFrequent Itemsets:\")\n",
    "print(frequent_itemsets)\n"
   ]
  },
  {
   "cell_type": "markdown",
   "id": "5891deed",
   "metadata": {},
   "source": [
    "This table shows items or combinations that appear in at least 30% of the 10 transactions.\n",
    "\n",
    "For example:\n",
    "- Eggs appears in 7 out of 10 transactions → support = 0.7\n",
    "- Bread appears in 4 out of 10 → support = 0.4\n",
    "- Eggs and beer appear together in 4 out of 10 \n",
    "\n",
    "It helps us see what people often buy, alone or together."
   ]
  },
  {
   "cell_type": "markdown",
   "id": "e72119de",
   "metadata": {},
   "source": [
    "## 5. Generating the Association Rules"
   ]
  },
  {
   "cell_type": "code",
   "execution_count": null,
   "id": "7a913a3b",
   "metadata": {},
   "outputs": [],
   "source": [
    "rules = association_rules(frequent_itemsets, metric='confidence', min_threshold=0.7)\n"
   ]
  },
  {
   "cell_type": "markdown",
   "id": "e4e9a568",
   "metadata": {},
   "source": [
    "this creates rules like if someone buys beer,they also buy diapers and we're only keeping rules where this relationship happens atleast 70% of the time"
   ]
  },
  {
   "cell_type": "code",
   "execution_count": 38,
   "id": "e361d834",
   "metadata": {},
   "outputs": [
    {
     "name": "stdout",
     "output_type": "stream",
     "text": [
      "\n",
      "Association Rules:\n",
      "  antecedents consequents  support  confidence      lift\n",
      "0      (Beer)      (Eggs)      0.4        0.80  1.142857\n",
      "1     (Bread)      (Eggs)      0.3        0.75  1.071429\n",
      "2    (Cheese)   (Diapers)      0.3        1.00  2.000000\n"
     ]
    }
   ],
   "source": [
    "print(\"\\nAssociation Rules:\")\n",
    "print(rules[['antecedents', 'consequents', 'support', 'confidence', 'lift']])\n"
   ]
  },
  {
   "cell_type": "markdown",
   "id": "c5c7da30",
   "metadata": {},
   "source": [
    "From the association rules generated, we can see that there are strong patterns in how items are bought together. \n",
    "- For example, when a customer buys Cheese, they always also buy Diapers — this rule has a confidence of 1.0, meaning it happens 100% of the time. \n",
    "- Another rule shows that people who buy Beer also buy Eggs 80% of the time. These patterns suggest that certain items are often purchased together\n",
    "\n",
    "A store could use this information to place those items near each other or offer bundle deals. \n",
    "\n",
    "The lift values, which are all above 1, show that these combinations are not just random but have a strong relationship."
   ]
  },
  {
   "cell_type": "markdown",
   "id": "a2b73b89",
   "metadata": {},
   "source": [
    "## 6.Explaining One Rule"
   ]
  },
  {
   "cell_type": "code",
   "execution_count": 39,
   "id": "a50b3349",
   "metadata": {},
   "outputs": [
    {
     "name": "stdout",
     "output_type": "stream",
     "text": [
      "\n",
      "Chosen Rule Explanation:\n",
      "If someone buys ['Beer'], they are likely to also buy ['Eggs']\n",
      "Confidence: 0.80 means this happens 80% of the time\n"
     ]
    }
   ],
   "source": [
    "if not rules.empty:\n",
    "    chosen_rule = rules.iloc[0]\n",
    "    print(\"\\nChosen Rule Explanation:\")\n",
    "    print(f\"If someone buys {list(chosen_rule['antecedents'])}, they are likely to also buy {list(chosen_rule['consequents'])}\")\n",
    "    print(f\"Confidence: {chosen_rule['confidence']:.2f} means this happens {chosen_rule['confidence']*100:.0f}% of the time\")\n",
    "else:\n",
    "    print(\"\\nNo rules generated with the given thresholds.\")\n"
   ]
  },
  {
   "cell_type": "markdown",
   "id": "93d98b81",
   "metadata": {},
   "source": [
    "One of the rules found from the data is that if someone buys beer, they are likely to also buy eggs. \n",
    "\n",
    "This rule has a confidence of 0.80, which means that in 80% of the cases where beer was bought,eggs were also bought. \n",
    "\n",
    "This shows a strong connection between the two items and could help a supermarket decide to place Beer and Eggs closer together on shelves or run a joint promotion. \n",
    "\n",
    "It’s a helpful way to understand customer shopping patterns.\n"
   ]
  }
 ],
 "metadata": {
  "kernelspec": {
   "display_name": "Python 3",
   "language": "python",
   "name": "python3"
  },
  "language_info": {
   "codemirror_mode": {
    "name": "ipython",
    "version": 3
   },
   "file_extension": ".py",
   "mimetype": "text/x-python",
   "name": "python",
   "nbconvert_exporter": "python",
   "pygments_lexer": "ipython3",
   "version": "3.12.10"
  }
 },
 "nbformat": 4,
 "nbformat_minor": 5
}
